{
 "cells": [
  {
   "cell_type": "markdown",
   "id": "944e2368",
   "metadata": {
    "slideshow": {
     "slide_type": "-"
    }
   },
   "source": [
    "# Jupyter notebooks: primer vistazo"
   ]
  },
  {
   "cell_type": "markdown",
   "id": "a96f2ab6",
   "metadata": {
    "slideshow": {
     "slide_type": "subslide"
    }
   },
   "source": [
    "Los jupyter notebooks son un entorno de programación que permiten integrar diferentes lenguajes de programación. El nombre viene de los lenguajes: \n",
    "\n",
    "  * **Ju**lia :  un lenguaje de progrmación de alto nivel relativamente reciente (2012) dedicado al cómputo científico.\n",
    "  * **Pyt**hon\n",
    "  * **R**\n",
    "  \n",
    "La principal característica de los notebooks es la programación en celdas, al igual que otros lengujes como Matlab y Mathematica. \n",
    "Las celdas pueden ser tipo **texto** o tipo **código** y se ejecutan con _Shift + Enter_"
   ]
  },
  {
   "cell_type": "markdown",
   "id": "b05c0efe",
   "metadata": {},
   "source": [
    "## Celdas tipo TEXTO\n",
    "\n",
    "El lenguaje de estas celdas se llama _Markdown_ y se hizo muy popular dado que con poco esfuerzo se puede tener texto con estructura sin requerir a un procesador de texto. Todo repositorio git tiene como texto de presentación un archivo README.**md** que están escritos en _Markdown_.\n",
    "\n",
    "La estrutura de títulos se da con #:\n",
    "# Título principal\n",
    "## Subtítulo\n",
    "### Subsubtítulo\n",
    "#### SubSub...\n",
    "\n",
    "También podemos escribir en **negrita** o en _italica_\n",
    "\n"
   ]
  },
  {
   "cell_type": "markdown",
   "id": "2090483a",
   "metadata": {},
   "source": [
    "Las bulletpoints son muy faciles de hacer:\n",
    "* bullet 1\n",
    "* bullet 2"
   ]
  },
  {
   "cell_type": "markdown",
   "id": "ad3bedb0",
   "metadata": {},
   "source": [
    "## Extras\n",
    "\n",
    "### Imágenes\n",
    "A partir de un link de una de la web, o un link local, podemos incorporar imágenes\n",
    "\n",
    "![ML](https://media.geeksforgeeks.org/wp-content/cdn-uploads/machineLearning3.png)"
   ]
  },
  {
   "cell_type": "markdown",
   "id": "fda8f4b4",
   "metadata": {},
   "source": [
    "Para poder modificar su tamaño o posición, tenemos que poner un poco de código de HTML. No es la idea, pero se puede\n",
    "\n",
    "<div>\n",
    "<img src=\"https://media.geeksforgeeks.org/wp-content/cdn-uploads/machineLearning3.png\" width=\"500\"/>\n",
    "</div>"
   ]
  },
  {
   "cell_type": "markdown",
   "id": "14a9ab7e",
   "metadata": {},
   "source": [
    "# Ecuaciones\n",
    "\n",
    "También podemos escribir ecuaciones! Tenemos modo _inline_ que funciona igual que $LaTeX$, por ejemplo $y = f(x)$.\n",
    "\n",
    "Sino también podemos escribirlas centradas:\n",
    "\n",
    "$$\n",
    "P(x) = e^{-x^{2}}\n",
    "$$\n"
   ]
  },
  {
   "cell_type": "markdown",
   "id": "129b8a67",
   "metadata": {},
   "source": [
    "## Links y Documentación\n",
    "\n",
    "Si queremos saber más sobre markdown podemos [mirar la documentación](https://www.markdownguide.org/basic-syntax/)\n"
   ]
  },
  {
   "cell_type": "markdown",
   "id": "f46c8535",
   "metadata": {},
   "source": [
    "### CIAO"
   ]
  }
 ],
 "metadata": {
  "kernelspec": {
   "display_name": "Python 3 (ipykernel)",
   "language": "python",
   "name": "python3"
  },
  "language_info": {
   "codemirror_mode": {
    "name": "ipython",
    "version": 3
   },
   "file_extension": ".py",
   "mimetype": "text/x-python",
   "name": "python",
   "nbconvert_exporter": "python",
   "pygments_lexer": "ipython3",
   "version": "3.9.7"
  }
 },
 "nbformat": 4,
 "nbformat_minor": 5
}
