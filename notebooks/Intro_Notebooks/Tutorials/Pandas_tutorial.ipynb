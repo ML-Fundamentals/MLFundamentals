{
 "cells": [
  {
   "cell_type": "markdown",
   "id": "eeb8c64f-51b5-4f35-afc8-602972bf9823",
   "metadata": {},
   "source": [
    "# Tutorial básico de Pandas\n",
    "\n",
    "El objetivo de este notebook es recopilar un compendio de funciones de uso cotidiano en Pandas."
   ]
  },
  {
   "cell_type": "markdown",
   "id": "d362ecbd-c644-4319-8825-8f36497bb14d",
   "metadata": {},
   "source": [
    "## Import\n",
    "\n",
    "Importamos `pandas` y le ponemos el nickname `pd`."
   ]
  },
  {
   "cell_type": "code",
   "execution_count": 1,
   "id": "890ccdec-b4b4-490d-925f-89bf507fc89f",
   "metadata": {},
   "outputs": [],
   "source": [
    "import pandas as pd"
   ]
  },
  {
   "cell_type": "markdown",
   "id": "0bb4e6de-d19f-4710-a8f8-1d10eebad4b2",
   "metadata": {},
   "source": [
    "# Objetos `pandas`\n",
    "La librería tiene varios objetos con los cuales podemos trabajar:\n",
    "* `Series`: son prácticamente iguales a un numpy array. Se refieren a los valores que toma una columna en una hoja de cálculo.\n",
    "* `DataFrame` Tabla de dos entradas. \n",
    "* `Panel` Prácticamente no se usa, asi que no le vamos a dar bola."
   ]
  },
  {
   "cell_type": "markdown",
   "id": "bc168285-fa31-4b2d-af04-cab56fd2c1a7",
   "metadata": {},
   "source": [
    "## Crear una `Serie`"
   ]
  },
  {
   "cell_type": "code",
   "execution_count": 2,
   "id": "9d520585-6245-440a-8f02-96de20d130ca",
   "metadata": {},
   "outputs": [
    {
     "name": "stdout",
     "output_type": "stream",
     "text": [
      "0       1\n",
      "1       1\n",
      "2       2\n",
      "3       3\n",
      "4       5\n",
      "5      86\n",
      "6      24\n",
      "7     356\n",
      "8      49\n",
      "9      36\n",
      "10    234\n",
      "11     45\n",
      "12     59\n",
      "13     45\n",
      "dtype: int64\n"
     ]
    }
   ],
   "source": [
    "s = pd.Series([1,1,2,3,5,86,24,356,49,36,234,45,59,45])\n",
    "print(s)"
   ]
  },
  {
   "cell_type": "code",
   "execution_count": null,
   "id": "b622e3fc-3cc0-4803-aa60-03dc1bc2ca10",
   "metadata": {},
   "outputs": [],
   "source": []
  },
  {
   "cell_type": "code",
   "execution_count": 8,
   "id": "384cbbb0-f5ce-4646-9f2f-e521636088b3",
   "metadata": {},
   "outputs": [
    {
     "data": {
      "text/plain": [
       "pandas.core.series.Series"
      ]
     },
     "execution_count": 8,
     "metadata": {},
     "output_type": "execute_result"
    }
   ],
   "source": [
    "type(s)"
   ]
  },
  {
   "cell_type": "markdown",
   "id": "81f024b0-50ba-4a6c-9b1e-bba4aa493b49",
   "metadata": {},
   "source": [
    "# Operaciones en `Series`\n",
    "\n",
    "\n",
    "Los objetos `series` se pueden operar al igual que arrays de numpys"
   ]
  },
  {
   "cell_type": "code",
   "execution_count": 13,
   "id": "5bbab10b-ae4f-4ca9-a1e3-a8a049fa8aaa",
   "metadata": {},
   "outputs": [
    {
     "name": "stdout",
     "output_type": "stream",
     "text": [
      "0      1.990272e+04\n",
      "1      1.990272e+04\n",
      "2      1.990739e+04\n",
      "3      1.992009e+04\n",
      "4      2.004841e+04\n",
      "5      2.235247e+37\n",
      "6      2.648914e+10\n",
      "7     4.062895e+154\n",
      "8      1.907347e+21\n",
      "9      4.311232e+15\n",
      "10    4.216079e+101\n",
      "11     3.493427e+19\n",
      "12     4.201210e+25\n",
      "13     3.493427e+19\n",
      "dtype: float64\n"
     ]
    }
   ],
   "source": [
    "import numpy as np\n",
    "print(np.exp(s) + 19900) ### Le sumo un valor a toda la serie"
   ]
  },
  {
   "cell_type": "code",
   "execution_count": 17,
   "id": "f73d3776-690a-4adb-8573-152faccb87fa",
   "metadata": {},
   "outputs": [
    {
     "name": "stdout",
     "output_type": "stream",
     "text": [
      "0      3.718282e+00\n",
      "1      3.718282e+00\n",
      "2      8.389056e+00\n",
      "3      2.108554e+01\n",
      "4      1.494132e+02\n",
      "5      2.235247e+37\n",
      "6      2.648912e+10\n",
      "7     4.062895e+154\n",
      "8      1.907347e+21\n",
      "9      4.311232e+15\n",
      "10    4.216079e+101\n",
      "11     3.493427e+19\n",
      "12     4.201210e+25\n",
      "13     3.493427e+19\n",
      "dtype: float64\n"
     ]
    }
   ],
   "source": [
    "### Sumo miembro a miembro\n",
    "print(np.exp(s) + [1,1,1,1,1,0,0,0,0,0,0,0,0,0])"
   ]
  },
  {
   "cell_type": "markdown",
   "id": "e65b23fa-02f2-443c-9fab-70ffedb4ef19",
   "metadata": {},
   "source": [
    "## Guardo la `Serie`"
   ]
  },
  {
   "cell_type": "code",
   "execution_count": 85,
   "id": "e57f922d-1954-48b9-ab55-5f43e11bf7ea",
   "metadata": {
    "tags": []
   },
   "outputs": [
    {
     "name": "stdout",
     "output_type": "stream",
     "text": [
      "/home/martin/DOC/ML_Fundamentals/MLFundamentals-profes/notebooks/Notebooks_demo/Tutorials/datasets\n"
     ]
    }
   ],
   "source": [
    "import os ## liberia para paths agnositco de sistema operativo \n",
    "\n",
    "## OJO QUE EN WINDOWS HAY QUE PONER DOBLE BARRAS \"//\"\n",
    "path = os.path.abspath(\"datasets\") ## hay que tener esta carpeta\n",
    "print(path)\n",
    "### Como csv\n",
    "s.to_csv(path+\"/mi_serie.csv\")\n",
    "\n",
    "### Como pickle\n",
    "s.to_pickle(path+\"/mi_serie.pkl\")\n",
    "\n",
    "### Como pickle\n",
    "s.to_excel(path+\"/mi_serie.xlsx\")\n",
    "\n",
    "### como markdown, por si lo queremos presentar en un texto\n",
    "s.to_markdown(path+\"/mi_serie.md\")\n",
    "\n"
   ]
  },
  {
   "cell_type": "markdown",
   "id": "7e4ab785-2012-4442-ae31-421c557e4b48",
   "metadata": {},
   "source": [
    "## Cargo una `Serie`"
   ]
  },
  {
   "cell_type": "code",
   "execution_count": 86,
   "id": "12653cb6-7636-47fa-85c7-1429dcf154d2",
   "metadata": {},
   "outputs": [],
   "source": [
    "path = os.path.abspath(\"datasets\") ## hay que tener esta carpeta\n",
    "\n",
    "s = pd.read_csv(path + \"/mi_serie.csv\")\n",
    "s = pd.read_pickle(path + \"/mi_serie.pkl\")\n",
    "s = pd.read_excel(path + \"/mi_serie.xlsx\")\n",
    "\n"
   ]
  },
  {
   "cell_type": "markdown",
   "id": "acd1efea-3b4c-48dd-9bf2-521bb4e22e4f",
   "metadata": {},
   "source": [
    "## Índices y acceso"
   ]
  },
  {
   "cell_type": "code",
   "execution_count": 87,
   "id": "7d88eede-0704-4a83-a9a4-29392c337234",
   "metadata": {},
   "outputs": [
    {
     "data": {
      "text/plain": [
       "68"
      ]
     },
     "execution_count": 87,
     "metadata": {},
     "output_type": "execute_result"
    }
   ],
   "source": [
    "### Se puede hacer una asociación de un string a cada valor\n",
    "s2 = pd.Series([68, 83, 112, 68], index=[\"alice\", \"bob\", \"charles\", \"darwin\"])\n",
    "\n",
    "### Para acceder escribo\n",
    "s2[\"alice\"]"
   ]
  },
  {
   "cell_type": "code",
   "execution_count": 88,
   "id": "e0622d46-8008-44e1-bdf4-074eb5cbeb86",
   "metadata": {},
   "outputs": [
    {
     "name": "stdout",
     "output_type": "stream",
     "text": [
      "112\n",
      "\n",
      "Imprimo más de uno\n",
      "charles    112\n",
      "darwin      68\n",
      "dtype: int64\n"
     ]
    }
   ],
   "source": [
    "## Si quiero acceder con el índice, sin atribuirle un string\n",
    "print(s2.iloc[2])\n",
    "print(\"\\nImprimo más de uno\")\n",
    "print(s2.iloc[2:4])"
   ]
  },
  {
   "cell_type": "code",
   "execution_count": null,
   "id": "7de01411-f0c8-41f2-b289-1adf284417b9",
   "metadata": {},
   "outputs": [],
   "source": []
  },
  {
   "cell_type": "markdown",
   "id": "584527cc-c1c7-42bd-bea6-3fe5bc0ab0b7",
   "metadata": {},
   "source": [
    "# Objetos `DataFrame`\n",
    "\n",
    "Los objetos `DataFrame` son los más frecuentes. Escencialmente es una composición de `Series`. "
   ]
  },
  {
   "cell_type": "code",
   "execution_count": 12,
   "id": "4626d906-7932-486c-a0aa-ca28eef58ef1",
   "metadata": {},
   "outputs": [
    {
     "data": {
      "text/plain": [
       "pandas.core.frame.DataFrame"
      ]
     },
     "execution_count": 12,
     "metadata": {},
     "output_type": "execute_result"
    }
   ],
   "source": [
    "people_dict = {\n",
    "    \"peso\": pd.Series([68, 83, 112], index=[\"Anabella\", \"Bobby\", \"Charly\"]),\n",
    "    \"año\": pd.Series([1984, 1985, 1992], index=[\"Bobby\", \"Anabella\", \"Charly\"], name=\"year\"),\n",
    "    \"hijxs\": pd.Series([0, 3], index=[\"Charly\", \"Anabella\"]),\n",
    "    \"hobby\": pd.Series([\"Bici\", \"Rappear\"], index=[\"Anabella\", \"Bobby\"]),\n",
    "}\n",
    "people = pd.DataFrame(people_dict)\n",
    "type(people)"
   ]
  },
  {
   "cell_type": "markdown",
   "id": "3ab9db9d-6ba5-4a0a-8602-2f9072a48249",
   "metadata": {},
   "source": [
    "## Veo de tipo de datos son"
   ]
  },
  {
   "cell_type": "code",
   "execution_count": 68,
   "id": "74bfed54-2a98-442f-a384-101f21f0a132",
   "metadata": {},
   "outputs": [
    {
     "name": "stdout",
     "output_type": "stream",
     "text": [
      "<class 'pandas.core.frame.DataFrame'>\n",
      "Index: 3 entries, Anabella to Charly\n",
      "Data columns (total 4 columns):\n",
      " #   Column  Non-Null Count  Dtype  \n",
      "---  ------  --------------  -----  \n",
      " 0   peso    3 non-null      int64  \n",
      " 1   año     3 non-null      int64  \n",
      " 2   hijxs   2 non-null      float64\n",
      " 3   hobby   2 non-null      object \n",
      "dtypes: float64(1), int64(2), object(1)\n",
      "memory usage: 228.0+ bytes\n",
      "None\n"
     ]
    }
   ],
   "source": [
    "print(people.info())"
   ]
  },
  {
   "cell_type": "markdown",
   "id": "5542fb0b-2e08-48f7-a77f-4960710e117e",
   "metadata": {},
   "source": [
    "## Miro los primeros 10 datos"
   ]
  },
  {
   "cell_type": "code",
   "execution_count": 46,
   "id": "73b8115c-2371-4b27-8e2a-4efdc26f5bcb",
   "metadata": {},
   "outputs": [
    {
     "data": {
      "text/html": [
       "<div>\n",
       "<style scoped>\n",
       "    .dataframe tbody tr th:only-of-type {\n",
       "        vertical-align: middle;\n",
       "    }\n",
       "\n",
       "    .dataframe tbody tr th {\n",
       "        vertical-align: top;\n",
       "    }\n",
       "\n",
       "    .dataframe thead th {\n",
       "        text-align: right;\n",
       "    }\n",
       "</style>\n",
       "<table border=\"1\" class=\"dataframe\">\n",
       "  <thead>\n",
       "    <tr style=\"text-align: right;\">\n",
       "      <th></th>\n",
       "      <th>peso</th>\n",
       "      <th>año</th>\n",
       "      <th>hijxs</th>\n",
       "      <th>hobby</th>\n",
       "    </tr>\n",
       "  </thead>\n",
       "  <tbody>\n",
       "    <tr>\n",
       "      <th>Anabella</th>\n",
       "      <td>68</td>\n",
       "      <td>1985</td>\n",
       "      <td>3.0</td>\n",
       "      <td>Bici</td>\n",
       "    </tr>\n",
       "    <tr>\n",
       "      <th>Bobby</th>\n",
       "      <td>83</td>\n",
       "      <td>1984</td>\n",
       "      <td>NaN</td>\n",
       "      <td>Rappear</td>\n",
       "    </tr>\n",
       "    <tr>\n",
       "      <th>Charly</th>\n",
       "      <td>112</td>\n",
       "      <td>1992</td>\n",
       "      <td>0.0</td>\n",
       "      <td>NaN</td>\n",
       "    </tr>\n",
       "  </tbody>\n",
       "</table>\n",
       "</div>"
      ],
      "text/plain": [
       "          peso   año  hijxs    hobby\n",
       "Anabella    68  1985    3.0     Bici\n",
       "Bobby       83  1984    NaN  Rappear\n",
       "Charly     112  1992    0.0      NaN"
      ]
     },
     "execution_count": 46,
     "metadata": {},
     "output_type": "execute_result"
    }
   ],
   "source": [
    "people.head()"
   ]
  },
  {
   "cell_type": "markdown",
   "id": "62c4819e-f752-406f-8e2a-a20252903c55",
   "metadata": {},
   "source": [
    "## Descripción estadística"
   ]
  },
  {
   "cell_type": "code",
   "execution_count": 19,
   "id": "dda319a5-6b41-4a23-a76f-d0a8f8828d65",
   "metadata": {},
   "outputs": [
    {
     "name": "stdout",
     "output_type": "stream",
     "text": [
      "<bound method NDFrame.describe of           peso   año  hijxs    hobby\n",
      "Anabella    68  1985    3.0     Bici\n",
      "Bobby       83  1984    NaN  Rappear\n",
      "Charly     112  1992    0.0      NaN>\n"
     ]
    }
   ],
   "source": [
    "# En este caso no es muy descriptivo pero en general lo es\n",
    "print(people.describe)"
   ]
  },
  {
   "cell_type": "markdown",
   "id": "ac4f0264-50d1-4507-af64-7d07f48a709f",
   "metadata": {},
   "source": [
    "## Acceso a columnas"
   ]
  },
  {
   "cell_type": "code",
   "execution_count": 53,
   "id": "1c29e3af-4291-4365-a50b-44dd71e5d520",
   "metadata": {},
   "outputs": [
    {
     "name": "stdout",
     "output_type": "stream",
     "text": [
      "Anabella    1985\n",
      "Bobby       1984\n",
      "Charly      1992\n",
      "Name: año, dtype: int64\n",
      "\n",
      "\n",
      "           año  hijxs\n",
      "Anabella  1985    3.0\n",
      "Bobby     1984    NaN\n",
      "Charly    1992    0.0\n"
     ]
    }
   ],
   "source": [
    "## Podemos acceder a una columna con el nombre\n",
    "print(people[\"año\"])\n",
    "print(\"\\n\")\n",
    "\n",
    "## También podemos ver sólo algunas columnas\n",
    "print(people[[\"año\",\"hijxs\"]])\n"
   ]
  },
  {
   "cell_type": "markdown",
   "id": "b5071761-e716-401d-b4a7-46f14463e6af",
   "metadata": {},
   "source": [
    "## Veamos las opciones posibles en Hobby (categórica)"
   ]
  },
  {
   "cell_type": "code",
   "execution_count": 69,
   "id": "d2965cb6-3a83-4d7a-ba5e-e8d713f2e5ef",
   "metadata": {},
   "outputs": [
    {
     "name": "stdout",
     "output_type": "stream",
     "text": [
      "Bici       1\n",
      "Rappear    1\n",
      "Name: hobby, dtype: int64\n"
     ]
    }
   ],
   "source": [
    "print(people[\"hobby\"].value_counts())"
   ]
  },
  {
   "cell_type": "markdown",
   "id": "a659cdc2-0ec4-46c7-91ab-8bffde1ff5ab",
   "metadata": {},
   "source": [
    "## Eliminar Filas o Columnas"
   ]
  },
  {
   "cell_type": "code",
   "execution_count": 66,
   "id": "cf4e2568-afbc-42ac-99b5-5fcb99c179f1",
   "metadata": {},
   "outputs": [
    {
     "data": {
      "text/html": [
       "<div>\n",
       "<style scoped>\n",
       "    .dataframe tbody tr th:only-of-type {\n",
       "        vertical-align: middle;\n",
       "    }\n",
       "\n",
       "    .dataframe tbody tr th {\n",
       "        vertical-align: top;\n",
       "    }\n",
       "\n",
       "    .dataframe thead th {\n",
       "        text-align: right;\n",
       "    }\n",
       "</style>\n",
       "<table border=\"1\" class=\"dataframe\">\n",
       "  <thead>\n",
       "    <tr style=\"text-align: right;\">\n",
       "      <th></th>\n",
       "      <th>peso</th>\n",
       "      <th>hijxs</th>\n",
       "      <th>hobby</th>\n",
       "    </tr>\n",
       "  </thead>\n",
       "  <tbody>\n",
       "    <tr>\n",
       "      <th>Anabella</th>\n",
       "      <td>68</td>\n",
       "      <td>3.0</td>\n",
       "      <td>Bici</td>\n",
       "    </tr>\n",
       "    <tr>\n",
       "      <th>Bobby</th>\n",
       "      <td>83</td>\n",
       "      <td>NaN</td>\n",
       "      <td>Rappear</td>\n",
       "    </tr>\n",
       "    <tr>\n",
       "      <th>Charly</th>\n",
       "      <td>112</td>\n",
       "      <td>0.0</td>\n",
       "      <td>NaN</td>\n",
       "    </tr>\n",
       "  </tbody>\n",
       "</table>\n",
       "</div>"
      ],
      "text/plain": [
       "          peso  hijxs    hobby\n",
       "Anabella    68    3.0     Bici\n",
       "Bobby       83    NaN  Rappear\n",
       "Charly     112    0.0      NaN"
      ]
     },
     "execution_count": 66,
     "metadata": {},
     "output_type": "execute_result"
    }
   ],
   "source": [
    "# Elimino la columna \"año\"\n",
    "people.drop([\"año\"],axis = 1)"
   ]
  },
  {
   "cell_type": "code",
   "execution_count": 67,
   "id": "feb7c787-c318-47dd-9c5f-31a0ef4f7716",
   "metadata": {},
   "outputs": [
    {
     "data": {
      "text/html": [
       "<div>\n",
       "<style scoped>\n",
       "    .dataframe tbody tr th:only-of-type {\n",
       "        vertical-align: middle;\n",
       "    }\n",
       "\n",
       "    .dataframe tbody tr th {\n",
       "        vertical-align: top;\n",
       "    }\n",
       "\n",
       "    .dataframe thead th {\n",
       "        text-align: right;\n",
       "    }\n",
       "</style>\n",
       "<table border=\"1\" class=\"dataframe\">\n",
       "  <thead>\n",
       "    <tr style=\"text-align: right;\">\n",
       "      <th></th>\n",
       "      <th>peso</th>\n",
       "      <th>año</th>\n",
       "      <th>hijxs</th>\n",
       "      <th>hobby</th>\n",
       "    </tr>\n",
       "  </thead>\n",
       "  <tbody>\n",
       "    <tr>\n",
       "      <th>Anabella</th>\n",
       "      <td>68</td>\n",
       "      <td>1985</td>\n",
       "      <td>3.0</td>\n",
       "      <td>Bici</td>\n",
       "    </tr>\n",
       "    <tr>\n",
       "      <th>Charly</th>\n",
       "      <td>112</td>\n",
       "      <td>1992</td>\n",
       "      <td>0.0</td>\n",
       "      <td>NaN</td>\n",
       "    </tr>\n",
       "  </tbody>\n",
       "</table>\n",
       "</div>"
      ],
      "text/plain": [
       "          peso   año  hijxs hobby\n",
       "Anabella    68  1985    3.0  Bici\n",
       "Charly     112  1992    0.0   NaN"
      ]
     },
     "execution_count": 67,
     "metadata": {},
     "output_type": "execute_result"
    }
   ],
   "source": [
    "# Elimino la fila \"Bobby\"\n",
    "people.drop([\"Bobby\"],axis =0)"
   ]
  },
  {
   "cell_type": "markdown",
   "id": "44d601e8-da07-4ba4-8c45-f0c75de23a85",
   "metadata": {},
   "source": [
    "# NaNs"
   ]
  },
  {
   "cell_type": "code",
   "execution_count": 73,
   "id": "e67d6191-a0c5-4729-9a9a-e40ba85971d7",
   "metadata": {},
   "outputs": [
    {
     "data": {
      "text/html": [
       "<div>\n",
       "<style scoped>\n",
       "    .dataframe tbody tr th:only-of-type {\n",
       "        vertical-align: middle;\n",
       "    }\n",
       "\n",
       "    .dataframe tbody tr th {\n",
       "        vertical-align: top;\n",
       "    }\n",
       "\n",
       "    .dataframe thead th {\n",
       "        text-align: right;\n",
       "    }\n",
       "</style>\n",
       "<table border=\"1\" class=\"dataframe\">\n",
       "  <thead>\n",
       "    <tr style=\"text-align: right;\">\n",
       "      <th></th>\n",
       "      <th>peso</th>\n",
       "      <th>año</th>\n",
       "    </tr>\n",
       "  </thead>\n",
       "  <tbody>\n",
       "    <tr>\n",
       "      <th>Anabella</th>\n",
       "      <td>68</td>\n",
       "      <td>1985</td>\n",
       "    </tr>\n",
       "    <tr>\n",
       "      <th>Bobby</th>\n",
       "      <td>83</td>\n",
       "      <td>1984</td>\n",
       "    </tr>\n",
       "    <tr>\n",
       "      <th>Charly</th>\n",
       "      <td>112</td>\n",
       "      <td>1992</td>\n",
       "    </tr>\n",
       "  </tbody>\n",
       "</table>\n",
       "</div>"
      ],
      "text/plain": [
       "          peso   año\n",
       "Anabella    68  1985\n",
       "Bobby       83  1984\n",
       "Charly     112  1992"
      ]
     },
     "execution_count": 73,
     "metadata": {},
     "output_type": "execute_result"
    }
   ],
   "source": [
    "## Elimino Columnas con Nans\n",
    "people.dropna(axis=1)#, how=\"all\")"
   ]
  },
  {
   "cell_type": "code",
   "execution_count": 74,
   "id": "4c99d9fe-8974-4476-aa1f-84d3a2c89096",
   "metadata": {},
   "outputs": [
    {
     "data": {
      "text/html": [
       "<div>\n",
       "<style scoped>\n",
       "    .dataframe tbody tr th:only-of-type {\n",
       "        vertical-align: middle;\n",
       "    }\n",
       "\n",
       "    .dataframe tbody tr th {\n",
       "        vertical-align: top;\n",
       "    }\n",
       "\n",
       "    .dataframe thead th {\n",
       "        text-align: right;\n",
       "    }\n",
       "</style>\n",
       "<table border=\"1\" class=\"dataframe\">\n",
       "  <thead>\n",
       "    <tr style=\"text-align: right;\">\n",
       "      <th></th>\n",
       "      <th>peso</th>\n",
       "      <th>año</th>\n",
       "      <th>hijxs</th>\n",
       "      <th>hobby</th>\n",
       "    </tr>\n",
       "  </thead>\n",
       "  <tbody>\n",
       "    <tr>\n",
       "      <th>Anabella</th>\n",
       "      <td>68</td>\n",
       "      <td>1985</td>\n",
       "      <td>3.0</td>\n",
       "      <td>Bici</td>\n",
       "    </tr>\n",
       "  </tbody>\n",
       "</table>\n",
       "</div>"
      ],
      "text/plain": [
       "          peso   año  hijxs hobby\n",
       "Anabella    68  1985    3.0  Bici"
      ]
     },
     "execution_count": 74,
     "metadata": {},
     "output_type": "execute_result"
    }
   ],
   "source": [
    "## Elimino Filas con Nans\n",
    "people.dropna(axis=0)#, how=\"all\")"
   ]
  },
  {
   "cell_type": "code",
   "execution_count": 75,
   "id": "62454764-a72a-42c5-a4ff-15345cf91557",
   "metadata": {},
   "outputs": [
    {
     "data": {
      "text/html": [
       "<div>\n",
       "<style scoped>\n",
       "    .dataframe tbody tr th:only-of-type {\n",
       "        vertical-align: middle;\n",
       "    }\n",
       "\n",
       "    .dataframe tbody tr th {\n",
       "        vertical-align: top;\n",
       "    }\n",
       "\n",
       "    .dataframe thead th {\n",
       "        text-align: right;\n",
       "    }\n",
       "</style>\n",
       "<table border=\"1\" class=\"dataframe\">\n",
       "  <thead>\n",
       "    <tr style=\"text-align: right;\">\n",
       "      <th></th>\n",
       "      <th>peso</th>\n",
       "      <th>año</th>\n",
       "      <th>hijxs</th>\n",
       "      <th>hobby</th>\n",
       "    </tr>\n",
       "  </thead>\n",
       "  <tbody>\n",
       "    <tr>\n",
       "      <th>Anabella</th>\n",
       "      <td>68</td>\n",
       "      <td>1985</td>\n",
       "      <td>3.0</td>\n",
       "      <td>Bici</td>\n",
       "    </tr>\n",
       "    <tr>\n",
       "      <th>Bobby</th>\n",
       "      <td>83</td>\n",
       "      <td>1984</td>\n",
       "      <td>0.0</td>\n",
       "      <td>Rappear</td>\n",
       "    </tr>\n",
       "    <tr>\n",
       "      <th>Charly</th>\n",
       "      <td>112</td>\n",
       "      <td>1992</td>\n",
       "      <td>0.0</td>\n",
       "      <td>0</td>\n",
       "    </tr>\n",
       "  </tbody>\n",
       "</table>\n",
       "</div>"
      ],
      "text/plain": [
       "          peso   año  hijxs    hobby\n",
       "Anabella    68  1985    3.0     Bici\n",
       "Bobby       83  1984    0.0  Rappear\n",
       "Charly     112  1992    0.0        0"
      ]
     },
     "execution_count": 75,
     "metadata": {},
     "output_type": "execute_result"
    }
   ],
   "source": [
    "## LLeno los nans con otros valores\n",
    "people.fillna(0)\n"
   ]
  }
 ],
 "metadata": {
  "kernelspec": {
   "display_name": "Python 3 (ipykernel)",
   "language": "python",
   "name": "python3"
  },
  "language_info": {
   "codemirror_mode": {
    "name": "ipython",
    "version": 3
   },
   "file_extension": ".py",
   "mimetype": "text/x-python",
   "name": "python",
   "nbconvert_exporter": "python",
   "pygments_lexer": "ipython3",
   "version": "3.7.13"
  }
 },
 "nbformat": 4,
 "nbformat_minor": 5
}
