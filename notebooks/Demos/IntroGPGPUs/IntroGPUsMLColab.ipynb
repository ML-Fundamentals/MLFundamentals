{
  "nbformat": 4,
  "nbformat_minor": 0,
  "metadata": {
    "accelerator": "GPU",
    "colab": {
      "provenance": [],
      "collapsed_sections": [],
      "toc_visible": true
    },
    "kernelspec": {
      "display_name": "Python 3",
      "name": "python3"
    },
    "gpuClass": "standard"
  },
  "cells": [
    {
      "cell_type": "markdown",
      "source": [
        "**Introducción a la programación en paralelo en placas gráficas (GPUs) en Google Colab**"
      ],
      "metadata": {
        "id": "XASZsEMKiWFJ"
      }
    },
    {
      "cell_type": "markdown",
      "metadata": {
        "id": "A8w8rRnK_fDB"
      },
      "source": [
        "El objetivo de esta notebook es mostrar algunos ejemplos básicos de programación en paralelo utilizando tarjetas graficas (las de los videojuegos), también llamadas *Graphic Processing Units* (GPUs). \n",
        "\n",
        "Programaremos una función (kernel) muy básica en **CUDA/C**, en **Python paralelo (Cupy)** y en **thrust (análogo a las librerias stdl de C++ pero en paralelo)**.\n",
        "\n",
        "\n",
        "**IMPORTANTE**: para correr en GPU en google colab hay que configurar:\n",
        "\n",
        "Entorno de ejecución -> cambiar tipo de entorno de ejecución\n",
        "\n",
        "o si lo tienen en inglés:\n",
        "\n",
        "Runtime-> Change Runtime Type -> GPU. \n",
        "\n",
        "Para ejecutar cada linea de código hacer Shift-Enter o Ctrl-Enter o apretar el botón de play."
      ]
    },
    {
      "cell_type": "markdown",
      "metadata": {
        "id": "snj3bwGx_z-c"
      },
      "source": [
        "**Uno de los compiladores de CUDA/C se llama nvcc. Para ver que versión estamos usando en la nube hacemos:**"
      ]
    },
    {
      "cell_type": "code",
      "metadata": {
        "colab": {
          "base_uri": "https://localhost:8080/"
        },
        "id": "GzIRSGebudXT",
        "outputId": "3876d735-3fdb-43c1-c2d2-42258962fbf1"
      },
      "source": [
        "!nvcc --version"
      ],
      "execution_count": 1,
      "outputs": [
        {
          "output_type": "stream",
          "name": "stdout",
          "text": [
            "nvcc: NVIDIA (R) Cuda compiler driver\n",
            "Copyright (c) 2005-2020 NVIDIA Corporation\n",
            "Built on Mon_Oct_12_20:09:46_PDT_2020\n",
            "Cuda compilation tools, release 11.1, V11.1.105\n",
            "Build cuda_11.1.TC455_06.29190527_0\n"
          ]
        }
      ]
    },
    {
      "cell_type": "markdown",
      "metadata": {
        "id": "hjdc7qaxACgq"
      },
      "source": [
        "**Para ver que placa o GPU nos tocó en la nube hacer:**"
      ]
    },
    {
      "cell_type": "code",
      "metadata": {
        "colab": {
          "base_uri": "https://localhost:8080/"
        },
        "id": "hAOT_KANAFS6",
        "outputId": "0113e8dc-6435-467a-cc62-cc2407b9c823"
      },
      "source": [
        "!nvidia-smi"
      ],
      "execution_count": 2,
      "outputs": [
        {
          "output_type": "stream",
          "name": "stdout",
          "text": [
            "Mon Sep 19 22:33:27 2022       \n",
            "+-----------------------------------------------------------------------------+\n",
            "| NVIDIA-SMI 460.32.03    Driver Version: 460.32.03    CUDA Version: 11.2     |\n",
            "|-------------------------------+----------------------+----------------------+\n",
            "| GPU  Name        Persistence-M| Bus-Id        Disp.A | Volatile Uncorr. ECC |\n",
            "| Fan  Temp  Perf  Pwr:Usage/Cap|         Memory-Usage | GPU-Util  Compute M. |\n",
            "|                               |                      |               MIG M. |\n",
            "|===============================+======================+======================|\n",
            "|   0  Tesla T4            Off  | 00000000:00:04.0 Off |                    0 |\n",
            "| N/A   61C    P8    11W /  70W |      0MiB / 15109MiB |      0%      Default |\n",
            "|                               |                      |                  N/A |\n",
            "+-------------------------------+----------------------+----------------------+\n",
            "                                                                               \n",
            "+-----------------------------------------------------------------------------+\n",
            "| Processes:                                                                  |\n",
            "|  GPU   GI   CI        PID   Type   Process name                  GPU Memory |\n",
            "|        ID   ID                                                   Usage      |\n",
            "|=============================================================================|\n",
            "|  No running processes found                                                 |\n",
            "+-----------------------------------------------------------------------------+\n"
          ]
        }
      ]
    },
    {
      "cell_type": "markdown",
      "metadata": {
        "id": "A70Y4gWoeqZY"
      },
      "source": [
        "**Para ver que CPU nos tocó:**"
      ]
    },
    {
      "cell_type": "code",
      "metadata": {
        "colab": {
          "base_uri": "https://localhost:8080/"
        },
        "id": "tnc5urx76x9H",
        "outputId": "38d60b92-72ea-426d-893f-b048740a32cb"
      },
      "source": [
        "!cat /proc/cpuinfo"
      ],
      "execution_count": 3,
      "outputs": [
        {
          "output_type": "stream",
          "name": "stdout",
          "text": [
            "processor\t: 0\n",
            "vendor_id\t: GenuineIntel\n",
            "cpu family\t: 6\n",
            "model\t\t: 79\n",
            "model name\t: Intel(R) Xeon(R) CPU @ 2.20GHz\n",
            "stepping\t: 0\n",
            "microcode\t: 0x1\n",
            "cpu MHz\t\t: 2199.998\n",
            "cache size\t: 56320 KB\n",
            "physical id\t: 0\n",
            "siblings\t: 2\n",
            "core id\t\t: 0\n",
            "cpu cores\t: 1\n",
            "apicid\t\t: 0\n",
            "initial apicid\t: 0\n",
            "fpu\t\t: yes\n",
            "fpu_exception\t: yes\n",
            "cpuid level\t: 13\n",
            "wp\t\t: yes\n",
            "flags\t\t: fpu vme de pse tsc msr pae mce cx8 apic sep mtrr pge mca cmov pat pse36 clflush mmx fxsr sse sse2 ss ht syscall nx pdpe1gb rdtscp lm constant_tsc rep_good nopl xtopology nonstop_tsc cpuid tsc_known_freq pni pclmulqdq ssse3 fma cx16 pcid sse4_1 sse4_2 x2apic movbe popcnt aes xsave avx f16c rdrand hypervisor lahf_lm abm 3dnowprefetch invpcid_single ssbd ibrs ibpb stibp fsgsbase tsc_adjust bmi1 hle avx2 smep bmi2 erms invpcid rtm rdseed adx smap xsaveopt arat md_clear arch_capabilities\n",
            "bugs\t\t: cpu_meltdown spectre_v1 spectre_v2 spec_store_bypass l1tf mds swapgs taa mmio_stale_data retbleed\n",
            "bogomips\t: 4399.99\n",
            "clflush size\t: 64\n",
            "cache_alignment\t: 64\n",
            "address sizes\t: 46 bits physical, 48 bits virtual\n",
            "power management:\n",
            "\n",
            "processor\t: 1\n",
            "vendor_id\t: GenuineIntel\n",
            "cpu family\t: 6\n",
            "model\t\t: 79\n",
            "model name\t: Intel(R) Xeon(R) CPU @ 2.20GHz\n",
            "stepping\t: 0\n",
            "microcode\t: 0x1\n",
            "cpu MHz\t\t: 2199.998\n",
            "cache size\t: 56320 KB\n",
            "physical id\t: 0\n",
            "siblings\t: 2\n",
            "core id\t\t: 0\n",
            "cpu cores\t: 1\n",
            "apicid\t\t: 1\n",
            "initial apicid\t: 1\n",
            "fpu\t\t: yes\n",
            "fpu_exception\t: yes\n",
            "cpuid level\t: 13\n",
            "wp\t\t: yes\n",
            "flags\t\t: fpu vme de pse tsc msr pae mce cx8 apic sep mtrr pge mca cmov pat pse36 clflush mmx fxsr sse sse2 ss ht syscall nx pdpe1gb rdtscp lm constant_tsc rep_good nopl xtopology nonstop_tsc cpuid tsc_known_freq pni pclmulqdq ssse3 fma cx16 pcid sse4_1 sse4_2 x2apic movbe popcnt aes xsave avx f16c rdrand hypervisor lahf_lm abm 3dnowprefetch invpcid_single ssbd ibrs ibpb stibp fsgsbase tsc_adjust bmi1 hle avx2 smep bmi2 erms invpcid rtm rdseed adx smap xsaveopt arat md_clear arch_capabilities\n",
            "bugs\t\t: cpu_meltdown spectre_v1 spectre_v2 spec_store_bypass l1tf mds swapgs taa mmio_stale_data retbleed\n",
            "bogomips\t: 4399.99\n",
            "clflush size\t: 64\n",
            "cache_alignment\t: 64\n",
            "address sizes\t: 46 bits physical, 48 bits virtual\n",
            "power management:\n",
            "\n"
          ]
        }
      ]
    },
    {
      "cell_type": "markdown",
      "metadata": {
        "id": "04ZpNeYqevV1"
      },
      "source": [
        "**Como vamos a programar y correr en CUDA C/C++ , vamos a necesitar instalar el siguiente plugin:**"
      ]
    },
    {
      "cell_type": "code",
      "source": [
        "!pip install git+https://github.com/andreinechaev/nvcc4jupyter.git"
      ],
      "metadata": {
        "colab": {
          "base_uri": "https://localhost:8080/"
        },
        "id": "dQst-tMyhwQu",
        "outputId": "6c0c4ae1-936c-45c9-eefe-1043b08d424d"
      },
      "execution_count": 4,
      "outputs": [
        {
          "output_type": "stream",
          "name": "stdout",
          "text": [
            "Looking in indexes: https://pypi.org/simple, https://us-python.pkg.dev/colab-wheels/public/simple/\n",
            "Collecting git+https://github.com/andreinechaev/nvcc4jupyter.git\n",
            "  Cloning https://github.com/andreinechaev/nvcc4jupyter.git to /tmp/pip-req-build-egfz_gi9\n",
            "  Running command git clone -q https://github.com/andreinechaev/nvcc4jupyter.git /tmp/pip-req-build-egfz_gi9\n",
            "Building wheels for collected packages: NVCCPlugin\n",
            "  Building wheel for NVCCPlugin (setup.py) ... \u001b[?25l\u001b[?25hdone\n",
            "  Created wheel for NVCCPlugin: filename=NVCCPlugin-0.0.2-py3-none-any.whl size=4306 sha256=66a0e170be6f1ecb6b916017ec89cb2ebe81ec50e002751622f09f4c5ed7e5a2\n",
            "  Stored in directory: /tmp/pip-ephem-wheel-cache-n_6pyfnq/wheels/ca/33/8d/3c86eb85e97d2b6169d95c6e8f2c297fdec60db6e84cb56f5e\n",
            "Successfully built NVCCPlugin\n",
            "Installing collected packages: NVCCPlugin\n",
            "Successfully installed NVCCPlugin-0.0.2\n"
          ]
        }
      ]
    },
    {
      "cell_type": "markdown",
      "metadata": {
        "id": "1FT5VL6VAh0U"
      },
      "source": [
        "**y luego cargarlo:**"
      ]
    },
    {
      "cell_type": "code",
      "metadata": {
        "colab": {
          "base_uri": "https://localhost:8080/"
        },
        "id": "sKpaprRBvkc3",
        "outputId": "a2016d30-b7d9-490c-aa94-24ce8148b8d9"
      },
      "source": [
        "%load_ext nvcc_plugin\n"
      ],
      "execution_count": 5,
      "outputs": [
        {
          "output_type": "stream",
          "name": "stdout",
          "text": [
            "created output directory at /content/src\n",
            "Out bin /content/result.out\n"
          ]
        }
      ]
    },
    {
      "cell_type": "markdown",
      "metadata": {
        "id": "kKtj2kNVLTcg"
      },
      "source": [
        "**Listo!, ahora podemos correr codigo CUDA C/C++ en la Jupyter notebook.**"
      ]
    },
    {
      "cell_type": "markdown",
      "metadata": {
        "id": "bO4n1xfLK9oO"
      },
      "source": [
        "Para terminar, es conveniente montar nuestro google drive, asi podemos acceder a nuestros archivos, que pueden ser headers, etc. Nos va a pedir un permiso y un codigo."
      ]
    },
    {
      "cell_type": "code",
      "metadata": {
        "colab": {
          "base_uri": "https://localhost:8080/"
        },
        "id": "lNc_gJpPLCiT",
        "outputId": "1e6646ea-25bd-4044-c97d-47dfe0201829"
      },
      "source": [
        "from google.colab import drive\n",
        "drive.mount('/content/drive')"
      ],
      "execution_count": 7,
      "outputs": [
        {
          "output_type": "stream",
          "name": "stdout",
          "text": [
            "Mounted at /content/drive\n"
          ]
        }
      ]
    },
    {
      "cell_type": "markdown",
      "metadata": {
        "id": "wmSi4EKDreYj"
      },
      "source": [
        "# Un ejemplo: función SAXPY\n",
        "a*x+y \n",
        "\n",
        "donde **a es un número** , **x e y son vectores**.\n",
        "\n",
        "# El plan es implementarla en diferentes lenguajes y comparar tiempos:\n",
        "1 y 2) En serie con una función de C vs. un kernel en CUDA/C\n",
        "\n",
        "3) Con la Librería Thrust\n",
        "\n",
        "4) Con Numpy\n",
        "\n",
        "3) Con CuPy"
      ]
    },
    {
      "cell_type": "markdown",
      "source": [
        "# Con una función en C vs. un kernel de CUDA/C"
      ],
      "metadata": {
        "id": "B2PeWoueFEXw"
      }
    },
    {
      "cell_type": "code",
      "source": [
        "%%cu\n",
        "\n",
        "#include <sys/time.h>\n",
        "#include <cstdio>\n",
        "\n",
        "__global__ void saxpy_cuda(int n, float a, float *x, float *y){\n",
        "     int t_id = threadIdx.x + blockDim.x * blockIdx.x;\n",
        "     int stride = blockDim.x * gridDim.x;\n",
        "     for (int i = t_id; i < n; i += stride)\n",
        "     {\n",
        "          y[i] = a * x[i] + y[i];\n",
        "     }\n",
        "}\n",
        " \n",
        "void saxpy_cpu(int n, float a, float *x, float *y)\n",
        "{\n",
        "\tfor (int i = 0; i < n; ++i)\n",
        "\t\ty[i] = a * x[i] + y[i];\n",
        "}\n",
        "\n",
        "int main(){\n",
        "  int n = 1UL << 25;\n",
        "\n",
        "  float *x, *y, alpha=2.0;\n",
        "  cudaMalloc(&x, n * sizeof(float));\n",
        "  cudaMalloc(&y, n * sizeof(float));\n",
        "\n",
        "  float *xcpu, *ycpu;\n",
        "  xcpu=(float *)malloc(n * sizeof(float));\n",
        "  ycpu=(float *)malloc(n * sizeof(float));\n",
        "\n",
        "  // GPU\n",
        "  struct timeval t1, t2;\n",
        "  gettimeofday(&t1, 0);\n",
        "\n",
        "  saxpy_cuda<<<32, 1024>>>(n, alpha, x, y);\n",
        "  cudaDeviceSynchronize();\n",
        "  \n",
        "  cudaThreadSynchronize();\n",
        "  gettimeofday(&t2, 0);\n",
        "\n",
        "  double time = (1000000.0*(t2.tv_sec-t1.tv_sec) + t2.tv_usec-t1.tv_usec)/1000.0;\n",
        "  printf(\"Tiempo GPU de saxpy sobre %ld elementos:  %3.1f ms \\n\", n, time);\n",
        "\n",
        "  // CPU\n",
        "  gettimeofday(&t1, 0);\n",
        "\n",
        "  saxpy_cpu(n, alpha, xcpu, ycpu);\n",
        "  \n",
        "  gettimeofday(&t2, 0);\n",
        "\n",
        "  double timecpu = (1000000.0*(t2.tv_sec-t1.tv_sec) + t2.tv_usec-t1.tv_usec)/1000.0;\n",
        "  printf(\"Tiempo CPU de saxpy sobre %ld elementos:  %3.1f ms \\n\", n, timecpu);\n",
        "\n",
        "  \n",
        "  cudaFree(x);\n",
        "  cudaFree(y);\n",
        "  free(xcpu);\n",
        "  free(ycpu);\n",
        "\n",
        "}"
      ],
      "metadata": {
        "colab": {
          "base_uri": "https://localhost:8080/"
        },
        "id": "5s3ZH_0nFJ8h",
        "outputId": "df526493-6b22-4516-daed-41e905d25713"
      },
      "execution_count": 8,
      "outputs": [
        {
          "output_type": "stream",
          "name": "stdout",
          "text": [
            "Tiempo GPU de saxpy sobre 33554432 elementos:  2.0 ms \n",
            "Tiempo CPU de saxpy sobre 33554432 elementos:  233.9 ms \n",
            "\n"
          ]
        }
      ]
    },
    {
      "cell_type": "markdown",
      "source": [
        "# Con la librería Thrust"
      ],
      "metadata": {
        "id": "n9ogruVAAAT2"
      }
    },
    {
      "cell_type": "code",
      "metadata": {
        "colab": {
          "base_uri": "https://localhost:8080/"
        },
        "id": "reFdGdGqJCxk",
        "outputId": "5a78214a-fb30-489b-fcf9-a9aa3f8863c6"
      },
      "source": [
        "%%cu\n",
        "//el símbolo indica que voy a compilar y correr el codigo cuda a continuacion. El símbolo %cu solo compila\n",
        "//librerias de thrust para hacer un vector en la GPU y una transformación (por ejemplo una suma etc.)\n",
        "#include <thrust/device_vector.h>\n",
        "#include <thrust/transform.h>\n",
        "#include <stdio.h>\n",
        "\n",
        "#include <sys/time.h>\n",
        "\n",
        "\n",
        "//los placeholders son para las convenciones de notación _1 y _2 de abajo\n",
        "\n",
        "using namespace thrust::placeholders;\n",
        "\n",
        "int main()\n",
        "{\n",
        "  int N=1UL << 25;\n",
        "  int a=2;\n",
        "  thrust::device_vector<float> x(N),y(N);\n",
        "  //for(int i=0;i<N;i++){z[i]=rand();};\n",
        "  thrust::fill(x.begin(),x.end(),1.0);\n",
        "  thrust::fill(y.begin(),y.end(),1.0);\n",
        "\n",
        "  struct timeval t1, t2;\n",
        "  gettimeofday(&t1, 0);\n",
        "\n",
        "  thrust::transform(x.begin(), x.end(), y.begin(), y.begin(),\n",
        "  a*_1 + _2\n",
        "  );\n",
        "\n",
        "  cudaThreadSynchronize();\n",
        "  gettimeofday(&t2, 0);\n",
        "\n",
        "  double time = (1000000.0*(t2.tv_sec-t1.tv_sec) + t2.tv_usec-t1.tv_usec)/1000.0;\n",
        "\n",
        "  printf(\"Time to generate saxpy thrust sobre %ld elementos:  %3.1f ms \\n\", N, time);\n",
        "\n",
        "}\n",
        "\n"
      ],
      "execution_count": 9,
      "outputs": [
        {
          "output_type": "stream",
          "name": "stdout",
          "text": [
            "Time to generate saxpy thrust sobre 33554432 elementos:  1.6 ms \n",
            "\n"
          ]
        }
      ]
    },
    {
      "cell_type": "markdown",
      "source": [
        "#Con Python en serie, Numpy.\n"
      ],
      "metadata": {
        "id": "3cr--ox1Ijil"
      }
    },
    {
      "cell_type": "code",
      "metadata": {
        "id": "EyPs59HbCg0f",
        "colab": {
          "base_uri": "https://localhost:8080/"
        },
        "outputId": "4d59efc6-dc5d-4c49-dd16-64648f293065"
      },
      "source": [
        "import numpy as np\n",
        "import time\n",
        "\n",
        "N=2**25\n",
        "x = np.arange(N, dtype=np.float32)\n",
        "y = np.arange(N, dtype=np.float32)\n",
        "a = 2\n",
        "start = time.time()\n",
        "a*x+y\n",
        "end = time.time()\n",
        "\n",
        "print(\"Time to generate saxpy numpy sobre\",N,\"elementos:\",(end - start)*1000,\"ms\")"
      ],
      "execution_count": 11,
      "outputs": [
        {
          "output_type": "stream",
          "name": "stdout",
          "text": [
            "Time to generate saxpy numpy sobre 33554432 elementos: 59.92293357849121 ms\n"
          ]
        }
      ]
    },
    {
      "cell_type": "markdown",
      "source": [
        "#Con Python en paralelo, Cupy. "
      ],
      "metadata": {
        "id": "RnaJ4lIEI0Yb"
      }
    },
    {
      "cell_type": "code",
      "source": [
        "import numpy as np\n",
        "import cupy as cp\n",
        "import time\n",
        "\n",
        "a=2\n",
        "\n",
        "N=2**25\n",
        "x_gpu = cp.arange(N, dtype=np.float32)\n",
        "y_gpu = cp.arange(N, dtype=np.float32)\n",
        "\n",
        "start = time.time()\n",
        "a*x_gpu+y_gpu\n",
        "end = time.time()\n",
        "\n",
        "print(\"Time to generate saxpy CuPy sobre\",N,\"elementos:\",(end - start)*1000,\"ms\")"
      ],
      "metadata": {
        "colab": {
          "base_uri": "https://localhost:8080/"
        },
        "id": "Ld3Lk9qxPqiK",
        "outputId": "ff1c2474-c65b-4e92-96f2-2c3aa0f7e6db"
      },
      "execution_count": 13,
      "outputs": [
        {
          "output_type": "stream",
          "name": "stdout",
          "text": [
            "Time to generate saxpy CuPy sobre 33554432 elementos: 0.835418701171875 ms\n"
          ]
        }
      ]
    },
    {
      "cell_type": "code",
      "source": [
        "import matplotlib\n",
        "import matplotlib.pyplot as plt\n",
        "import numpy as np\n",
        "\n",
        "N = 5\n",
        "##completar los tiempos aqui... en orden de aparicion\n",
        "tiempos = (2,236.8,1.6,77497,0.66)\n",
        "ind = np.arange(N)    # the x locations for the groups\n",
        "width = 0.5       # the width of the bars: can also be len(x) sequence\n",
        "\n",
        "fig, ax = plt.subplots()\n",
        "ax.set_xticklabels(('','GPU_Kernel','CPU_Funcion','GPU_Thrust','CPU_NumPy','GPU_CuPy'))\n",
        "ax.set_yscale('log')\n",
        "ax.set_xlabel('')\n",
        "ax.set_ylabel('tiempo [ms]')\n",
        "plt.setp(ax.get_xticklabels(), rotation=45, ha=\"right\",\n",
        "         rotation_mode=\"anchor\")\n",
        "\n",
        "p1 = ax.bar(ind, tiempos, width)\n",
        "plt.show()"
      ],
      "metadata": {
        "colab": {
          "base_uri": "https://localhost:8080/",
          "height": 309
        },
        "id": "CQM5-ny973NF",
        "outputId": "503d0f00-be23-40d6-f23f-2ce540e17452"
      },
      "execution_count": 15,
      "outputs": [
        {
          "output_type": "display_data",
          "data": {
            "text/plain": [
              "<Figure size 432x288 with 1 Axes>"
            ],
            "image/png": "[encoded data removed]"
          },
          "metadata": {
            "needs_background": "light"
          }
        }
      ]
    }
  ]
}